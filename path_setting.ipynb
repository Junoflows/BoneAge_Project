{
 "cells": [
  {
   "cell_type": "code",
   "execution_count": 4,
   "metadata": {},
   "outputs": [],
   "source": [
    "import pandas as pd\n",
    "import numpy as np\n",
    "import matplotlib.pyplot as plt\n",
    "from PIL import Image\n",
    "import datetime\n",
    "from sklearn.model_selection import train_test_split\n",
    "\n",
    "import torch\n",
    "import re\n",
    "import os\n",
    "import shutil\n",
    "import glob\n",
    "import zipfile\n",
    "import cv2"
   ]
  },
  {
   "cell_type": "code",
   "execution_count": 2,
   "metadata": {},
   "outputs": [
    {
     "name": "stdout",
     "output_type": "stream",
     "text": [
      "device : cuda\n",
      "Current : 0\n",
      "Count : 1\n"
     ]
    }
   ],
   "source": [
    "os.environ[\"CUDA_DEVICE_ORDER\"] = \"PCI_BUS_ID\"\n",
    "os.environ[\"CUDA_VISIBLE_DEVICES\"] = \"0\"\n",
    "device = torch.device('cuda') if torch.cuda.is_available() else torch.device('cpu')\n",
    "\n",
    "print('device :', device)\n",
    "print('Current :', torch.cuda.current_device())\n",
    "print('Count :', torch.cuda.device_count())"
   ]
  },
  {
   "cell_type": "markdown",
   "metadata": {},
   "source": [
    "## 1. 데이터 폴더 생성 (1회만 실행)"
   ]
  },
  {
   "cell_type": "code",
   "execution_count": 5,
   "metadata": {},
   "outputs": [],
   "source": [
    "# female 엑셀파일에 id가 겹치는게 있음 -> male 엑셀파일도 있을 수 있음\n",
    "# 남여 나눠서 압축 1개 풀고, 엑셀 1개 concat 하는 식으로 수행\n",
    "# 이미지 이름은 1부터 rename 하였음\n",
    "\n",
    "path= '골밀도 데이터/BoneAge/'\n",
    "data_path_F = '골밀도 데이터/data_F/'\n",
    "data_path_M = '골밀도 데이터/data_M/'\n",
    "\n",
    "# xlsx파일과 zip파일 경로 추출\n",
    "xls_path = glob.glob(path + \"*.xlsx\")\n",
    "zip_path = glob.glob(path + \"*.zip\")"
   ]
  },
  {
   "cell_type": "code",
   "execution_count": 6,
   "metadata": {},
   "outputs": [],
   "source": [
    "# 남여 zip 파일 분류\n",
    "zip_path_F = [f_path for f_path in zip_path if f_path.split('/')[-1][3]=='F']\n",
    "zip_path_M = [f_path for f_path in zip_path if f_path.split('/')[-1][3]=='M']\n",
    "\n",
    "# 남여 xlsx 파일 분류\n",
    "xlsx_path_F = [f_xls for f_xls in xls_path if f_xls.split('/')[-1][3]=='F']\n",
    "xlsx_path_M = [m_xls for m_xls in xls_path if m_xls.split('/')[-1][3]=='M']\n",
    "\n",
    "## 분류된 파일을 보면 연령대 순서가 동일함을 알 수 있음\n",
    "# print(zip_path_M)\n",
    "# print(xlsx_path_M)\n",
    "\n",
    "# 이미지 이름을 1부터 rename\n",
    "i = 1\n",
    "df_f = pd.DataFrame() # female 엑셀파일 모아둘 데이터프레임 생성\n",
    "\n",
    "# zip 함수로 female zip파일, 엑셀파일 세트로 하나씩 추출\n",
    "for zip_file, xlsx_file in zip(zip_path_F, xlsx_path_F):\n",
    "    zipfile.ZipFile(zip_file).extractall(data_path_F)\n",
    "    xlsx_f = pd.read_excel(xlsx_file, index_col = 0)\n",
    "    df_f = pd.concat([df_f, xlsx_f], axis = 0)\n",
    "    \n",
    "    for filename in os.listdir(data_path_F):\n",
    "        # 01_F 식으로 된 파일명만 바꾸기\n",
    "        if filename.split('.')[0][-1] == 'F':\n",
    "            new_filename = str(i) + '.jpg'\n",
    "            \n",
    "            old_path = os.path.join(data_path_F, filename)\n",
    "            new_path = os.path.join(data_path_F, new_filename)\n",
    "            \n",
    "            os.rename(old_path, new_path)\n",
    "            i+= 1\n",
    "        else:\n",
    "            continue\n",
    "\n",
    "df_f = df_f.reset_index(drop = True)"
   ]
  },
  {
   "cell_type": "code",
   "execution_count": 7,
   "metadata": {},
   "outputs": [],
   "source": [
    "# 이중 폴더 꺼내는 것 제외하면 female 작업과 같음\n",
    "for zip_file in zip_path_M:\n",
    "    zipfile.ZipFile(zip_file).extractall(data_path_M)\n",
    "\n",
    "df_m = pd.DataFrame()\n",
    "folder_path = glob.glob(data_path_M + \"BA*\")\n",
    "for in_path, xlsx_file in zip(folder_path, xlsx_path_M):\n",
    "    xlsx_m = pd.read_excel(xlsx_file, index_col=0)\n",
    "    df_m = pd.concat([df_m, xlsx_m], axis = 0)\n",
    "    \n",
    "    temp = os.listdir(in_path)\n",
    "    for tmp in temp:\n",
    "        os.rename(in_path + '/' + tmp, data_path_M + str(i) + '.jpg')\n",
    "        i+= 1\n",
    "    \n",
    "    os.rmdir(in_path)\n",
    "    \n",
    "df_m = df_m.reset_index(drop = True)"
   ]
  },
  {
   "cell_type": "code",
   "execution_count": 8,
   "metadata": {},
   "outputs": [],
   "source": [
    "# 두 데이터를 합치기 위한 data 폴더 생성\n",
    "merged_folder = '골밀도 데이터/data/'\n",
    "os.makedirs(merged_folder, exist_ok=True)\n",
    "\n",
    "# data_F의 이미지를 data 폴더로 이동\n",
    "for filename in os.listdir(data_path_F):\n",
    "    source_path = os.path.join(data_path_F, filename)\n",
    "    destination_path = os.path.join(merged_folder, filename)\n",
    "    shutil.move(source_path, destination_path)\n",
    "    \n",
    "# data_M의 이미지를 data 폴더로 이동\n",
    "for filename in os.listdir(data_path_M):\n",
    "    source_path = os.path.join(data_path_M, filename)\n",
    "    destination_path = os.path.join(merged_folder, filename)\n",
    "    shutil.move(source_path, destination_path)\n",
    "\n",
    "# 빈 폴더 제거\n",
    "os.rmdir(data_path_F)\n",
    "os.rmdir(data_path_M)"
   ]
  },
  {
   "cell_type": "code",
   "execution_count": 9,
   "metadata": {},
   "outputs": [],
   "source": [
    "# 남여 데이터프레임 합치고 필요한 열만 가져옴\n",
    "df = pd.concat([df_f, df_m], axis = 0).reset_index(drop = True)\n",
    "df['No'] = df.index + 1\n",
    "df['No'] = df['No'].apply(lambda x : str(x) + '.jpg')\n",
    "\n",
    "df['boneage'] = (df['BA 1'] + df['BA 2']) / 2\n",
    "df['성별'] = df['성별'].map({2 : 'F', 1:'M'})"
   ]
  },
  {
   "cell_type": "code",
   "execution_count": 10,
   "metadata": {},
   "outputs": [],
   "source": [
    "df.to_csv('골밀도 데이터/total_data.csv', index = 0)"
   ]
  }
 ],
 "metadata": {
  "kernelspec": {
   "display_name": "base",
   "language": "python",
   "name": "python3"
  },
  "language_info": {
   "codemirror_mode": {
    "name": "ipython",
    "version": 3
   },
   "file_extension": ".py",
   "mimetype": "text/x-python",
   "name": "python",
   "nbconvert_exporter": "python",
   "pygments_lexer": "ipython3",
   "version": "3.10.13"
  }
 },
 "nbformat": 4,
 "nbformat_minor": 2
}
