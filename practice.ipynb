{
 "cells": [
  {
   "cell_type": "code",
   "execution_count": null,
   "metadata": {},
   "outputs": [],
   "source": [
    "# !pip install Pillow"
   ]
  },
  {
   "cell_type": "code",
   "execution_count": 46,
   "metadata": {},
   "outputs": [
    {
     "ename": "FileNotFoundError",
     "evalue": "[Errno 2] No such file or directory: 'resizedM_10yr\\\\BA_M_10yr/332_M.jpg'",
     "output_type": "error",
     "traceback": [
      "\u001b[1;31m---------------------------------------------------------------------------\u001b[0m",
      "\u001b[1;31mFileNotFoundError\u001b[0m                         Traceback (most recent call last)",
      "Cell \u001b[1;32mIn[46], line 47\u001b[0m\n\u001b[0;32m     44\u001b[0m resized_image \u001b[38;5;241m=\u001b[39m image\u001b[38;5;241m.\u001b[39mresize(new_size)\n\u001b[0;32m     46\u001b[0m \u001b[38;5;66;03m# 이미지 파일 저장\u001b[39;00m\n\u001b[1;32m---> 47\u001b[0m \u001b[43mresized_image\u001b[49m\u001b[38;5;241;43m.\u001b[39;49m\u001b[43msave\u001b[49m\u001b[43m(\u001b[49m\u001b[43mos\u001b[49m\u001b[38;5;241;43m.\u001b[39;49m\u001b[43mpath\u001b[49m\u001b[38;5;241;43m.\u001b[39;49m\u001b[43mjoin\u001b[49m\u001b[43m(\u001b[49m\u001b[43mnew_folder\u001b[49m\u001b[43m,\u001b[49m\u001b[43m \u001b[49m\u001b[43mimg\u001b[49m\u001b[43m)\u001b[49m\u001b[43m)\u001b[49m\n",
      "File \u001b[1;32mc:\\Users\\User\\anaconda3\\lib\\site-packages\\PIL\\Image.py:2428\u001b[0m, in \u001b[0;36mImage.save\u001b[1;34m(self, fp, format, **params)\u001b[0m\n\u001b[0;32m   2426\u001b[0m         fp \u001b[38;5;241m=\u001b[39m builtins\u001b[38;5;241m.\u001b[39mopen(filename, \u001b[38;5;124m\"\u001b[39m\u001b[38;5;124mr+b\u001b[39m\u001b[38;5;124m\"\u001b[39m)\n\u001b[0;32m   2427\u001b[0m     \u001b[38;5;28;01melse\u001b[39;00m:\n\u001b[1;32m-> 2428\u001b[0m         fp \u001b[38;5;241m=\u001b[39m \u001b[43mbuiltins\u001b[49m\u001b[38;5;241;43m.\u001b[39;49m\u001b[43mopen\u001b[49m\u001b[43m(\u001b[49m\u001b[43mfilename\u001b[49m\u001b[43m,\u001b[49m\u001b[43m \u001b[49m\u001b[38;5;124;43m\"\u001b[39;49m\u001b[38;5;124;43mw+b\u001b[39;49m\u001b[38;5;124;43m\"\u001b[39;49m\u001b[43m)\u001b[49m\n\u001b[0;32m   2430\u001b[0m \u001b[38;5;28;01mtry\u001b[39;00m:\n\u001b[0;32m   2431\u001b[0m     save_handler(\u001b[38;5;28mself\u001b[39m, fp, filename)\n",
      "\u001b[1;31mFileNotFoundError\u001b[0m: [Errno 2] No such file or directory: 'resizedM_10yr\\\\BA_M_10yr/332_M.jpg'"
     ]
    }
   ],
   "source": [
    "import zipfile\n",
    "from PIL import Image\n",
    "from io import BytesIO\n",
    "import os\n",
    "\n",
    "# ZIP 파일 경로\n",
    "folder_path = '골밀도 데이터\\BoneAge'\n",
    "files = os.listdir(folder_path)\n",
    "\n",
    "for file in files:\n",
    "    if file.endswith('.zip'):\n",
    "        zip_file_path = os.path.join(folder_path, file)\n",
    "        # zip_file_path = '골밀도 데이터\\BoneAge\\BA_F_3yr.zip'\n",
    "\n",
    "    # 새 폴더 생성\n",
    "    new_folder = 'resized' + zip_file_path.split('\\\\')[-1].split('.')[0][3:]\n",
    "    if not os.path.exists(new_folder):\n",
    "        os.makedirs(new_folder)\n",
    "\n",
    "    # 조정할 이미지 크기\n",
    "    new_size = (800, 1024)\n",
    "\n",
    "    # ZIP 파일 열기\n",
    "    with zipfile.ZipFile(zip_file_path, 'r') as zip_ref:\n",
    "        # ZIP 파일 내의 파일 목록을 가져옵니다.\n",
    "        file_list = zip_ref.namelist()\n",
    "        \n",
    "        # if len(file_list) == 1:\n",
    "        #     first_dir = next((name for name in file_list if '/' in name), None)\n",
    "        #     print(first_dir)\n",
    "\n",
    "        # 이미지 파일을 찾아 크기를 조정하고 새 폴더에 저장합니다.\n",
    "        for img in file_list:\n",
    "            if img.endswith('.jpg') or img.endswith('.png'):\n",
    "                # 이미지 파일을 읽습니다.\n",
    "                image_data = zip_ref.read(img)\n",
    "                \n",
    "                # BytesIO를 사용하여 이미지 데이터를 이미지 객체로 변환합니다.\n",
    "                image = Image.open(BytesIO(image_data))\n",
    "\n",
    "                # 이미지 크기 조정\n",
    "                resized_image = image.resize(new_size)\n",
    "\n",
    "                # 이미지 파일 저장\n",
    "                resized_image.save(os.path.join(new_folder, img))\n"
   ]
  },
  {
   "cell_type": "code",
   "execution_count": 11,
   "metadata": {},
   "outputs": [
    {
     "data": {
      "text/plain": [
       "26"
      ]
     },
     "execution_count": 11,
     "metadata": {},
     "output_type": "execute_result"
    }
   ],
   "source": [
    "10+9+7"
   ]
  }
 ],
 "metadata": {
  "kernelspec": {
   "display_name": "base",
   "language": "python",
   "name": "python3"
  },
  "language_info": {
   "codemirror_mode": {
    "name": "ipython",
    "version": 3
   },
   "file_extension": ".py",
   "mimetype": "text/x-python",
   "name": "python",
   "nbconvert_exporter": "python",
   "pygments_lexer": "ipython3",
   "version": "3.10.9"
  }
 },
 "nbformat": 4,
 "nbformat_minor": 2
}
