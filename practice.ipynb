{
 "cells": [
  {
   "cell_type": "code",
   "execution_count": 19,
   "metadata": {},
   "outputs": [],
   "source": [
    "import pandas as pd\n",
    "import numpy as np\n",
    "import matplotlib.pyplot as plt\n",
    "from PIL import Image\n",
    "\n",
    "import re\n",
    "import os\n",
    "import shutil\n",
    "import glob\n",
    "import zipfile\n",
    "import cv2"
   ]
  },
  {
   "cell_type": "code",
   "execution_count": 39,
   "metadata": {},
   "outputs": [],
   "source": [
    "path= '골밀도 데이터/BoneAge/'\n",
    "data_path = '골밀도 데이터/image/'\n",
    "\n",
    "# xlsx파일과 zip파일 경로 추출\n",
    "xls_path=glob.glob(path+\"/*.xlsx\")\n",
    "zip_path=glob.glob(path+\"/*.zip\")"
   ]
  },
  {
   "cell_type": "code",
   "execution_count": 40,
   "metadata": {},
   "outputs": [],
   "source": [
    "#zip파일 압축 해제 후 위치 변경\n",
    "for zip in zip_path:\n",
    "    zipfile.ZipFile(zip).extractall(data_path)"
   ]
  },
  {
   "cell_type": "code",
   "execution_count": 41,
   "metadata": {},
   "outputs": [],
   "source": [
    "#이중 폴더 내 이미지 꺼내기\n",
    "folder_path=glob.glob(data_path+\"BA*\")\n",
    "for in_path in folder_path:\n",
    "    tmp=os.listdir(in_path)\n",
    "    for i in tmp:\n",
    "        os.rename(in_path+\"/\"+i,data_path+str(int(i[0:3]))+i[3:])\n",
    "    \n",
    "    os.rmdir(in_path)"
   ]
  },
  {
   "cell_type": "code",
   "execution_count": 42,
   "metadata": {},
   "outputs": [],
   "source": [
    "#xlsx파일 읽어서 합치기\n",
    "df=pd.DataFrame()\n",
    "for xlsx in xls_path:\n",
    "    sub_df = pd.read_excel(xlsx)\n",
    "    \n",
    "    id = pd.DataFrame([int(re.findall(r'\\d+', str(x))[0]) for x in sub_df[\"No.\"]])\n",
    "    age = sub_df[\"검사 시 나이\"]\n",
    "    gender = sub_df[\"성별\"]-1\n",
    "    \n",
    "    tmp = pd.concat([id, age, gender], axis=1, ignore_index=True)\n",
    "    df = pd.concat([df, tmp], axis=0, ignore_index=True)\n",
    "    \n",
    "df.columns=[\"ID\",\"Age\",\"Gender\"]"
   ]
  },
  {
   "cell_type": "code",
   "execution_count": 43,
   "metadata": {},
   "outputs": [
    {
     "data": {
      "text/html": [
       "<div>\n",
       "<style scoped>\n",
       "    .dataframe tbody tr th:only-of-type {\n",
       "        vertical-align: middle;\n",
       "    }\n",
       "\n",
       "    .dataframe tbody tr th {\n",
       "        vertical-align: top;\n",
       "    }\n",
       "\n",
       "    .dataframe thead th {\n",
       "        text-align: right;\n",
       "    }\n",
       "</style>\n",
       "<table border=\"1\" class=\"dataframe\">\n",
       "  <thead>\n",
       "    <tr style=\"text-align: right;\">\n",
       "      <th></th>\n",
       "      <th>ID</th>\n",
       "      <th>Age</th>\n",
       "      <th>Gender</th>\n",
       "    </tr>\n",
       "  </thead>\n",
       "  <tbody>\n",
       "    <tr>\n",
       "      <th>0</th>\n",
       "      <td>310</td>\n",
       "      <td>9.969863</td>\n",
       "      <td>1</td>\n",
       "    </tr>\n",
       "    <tr>\n",
       "      <th>1</th>\n",
       "      <td>311</td>\n",
       "      <td>9.989041</td>\n",
       "      <td>1</td>\n",
       "    </tr>\n",
       "    <tr>\n",
       "      <th>2</th>\n",
       "      <td>312</td>\n",
       "      <td>10.008219</td>\n",
       "      <td>1</td>\n",
       "    </tr>\n",
       "    <tr>\n",
       "      <th>3</th>\n",
       "      <td>313</td>\n",
       "      <td>10.049315</td>\n",
       "      <td>1</td>\n",
       "    </tr>\n",
       "    <tr>\n",
       "      <th>4</th>\n",
       "      <td>314</td>\n",
       "      <td>10.060274</td>\n",
       "      <td>1</td>\n",
       "    </tr>\n",
       "    <tr>\n",
       "      <th>...</th>\n",
       "      <td>...</td>\n",
       "      <td>...</td>\n",
       "      <td>...</td>\n",
       "    </tr>\n",
       "    <tr>\n",
       "      <th>1232</th>\n",
       "      <td>327</td>\n",
       "      <td>9.860274</td>\n",
       "      <td>0</td>\n",
       "    </tr>\n",
       "    <tr>\n",
       "      <th>1233</th>\n",
       "      <td>328</td>\n",
       "      <td>9.863014</td>\n",
       "      <td>0</td>\n",
       "    </tr>\n",
       "    <tr>\n",
       "      <th>1234</th>\n",
       "      <td>329</td>\n",
       "      <td>9.868493</td>\n",
       "      <td>0</td>\n",
       "    </tr>\n",
       "    <tr>\n",
       "      <th>1235</th>\n",
       "      <td>330</td>\n",
       "      <td>9.868493</td>\n",
       "      <td>0</td>\n",
       "    </tr>\n",
       "    <tr>\n",
       "      <th>1236</th>\n",
       "      <td>331</td>\n",
       "      <td>9.887671</td>\n",
       "      <td>0</td>\n",
       "    </tr>\n",
       "  </tbody>\n",
       "</table>\n",
       "<p>1237 rows × 3 columns</p>\n",
       "</div>"
      ],
      "text/plain": [
       "       ID        Age  Gender\n",
       "0     310   9.969863       1\n",
       "1     311   9.989041       1\n",
       "2     312  10.008219       1\n",
       "3     313  10.049315       1\n",
       "4     314  10.060274       1\n",
       "...   ...        ...     ...\n",
       "1232  327   9.860274       0\n",
       "1233  328   9.863014       0\n",
       "1234  329   9.868493       0\n",
       "1235  330   9.868493       0\n",
       "1236  331   9.887671       0\n",
       "\n",
       "[1237 rows x 3 columns]"
      ]
     },
     "execution_count": 43,
     "metadata": {},
     "output_type": "execute_result"
    }
   ],
   "source": [
    "df"
   ]
  },
  {
   "cell_type": "code",
   "execution_count": 44,
   "metadata": {},
   "outputs": [],
   "source": [
    "#labeling 데이터 저장\n",
    "df.to_excel(data_path+\"clin_info.xlsx\")"
   ]
  }
 ],
 "metadata": {
  "kernelspec": {
   "display_name": "base",
   "language": "python",
   "name": "python3"
  },
  "language_info": {
   "codemirror_mode": {
    "name": "ipython",
    "version": 3
   },
   "file_extension": ".py",
   "mimetype": "text/x-python",
   "name": "python",
   "nbconvert_exporter": "python",
   "pygments_lexer": "ipython3",
   "version": "3.10.9"
  }
 },
 "nbformat": 4,
 "nbformat_minor": 2
}
