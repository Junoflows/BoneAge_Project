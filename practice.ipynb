{
 "cells": [
  {
   "cell_type": "code",
   "execution_count": 5,
   "metadata": {},
   "outputs": [],
   "source": [
    "import pandas as pd\n",
    "import numpy as np\n",
    "import matplotlib.pyplot as plt\n",
    "from PIL import Image\n",
    "\n",
    "import re\n",
    "import os\n",
    "import shutil\n",
    "import glob\n",
    "import zipfile\n",
    "import cv2"
   ]
  },
  {
   "cell_type": "code",
   "execution_count": 8,
   "metadata": {},
   "outputs": [],
   "source": [
    "path= '골밀도 데이터/BoneAge/'\n",
    "data_path = '골밀도 데이터/image/'\n",
    "\n",
    "# xlsx파일과 zip파일 경로 추출\n",
    "xls_path=glob.glob(path+\"/*.xlsx\")\n",
    "zip_path=glob.glob(path+\"/*.zip\")"
   ]
  },
  {
   "cell_type": "code",
   "execution_count": 9,
   "metadata": {},
   "outputs": [],
   "source": [
    "#zip파일 압축 해제 후 위치 변경\n",
    "for zip in zip_path:\n",
    "    zipfile.ZipFile(zip).extractall(data_path)"
   ]
  },
  {
   "cell_type": "code",
   "execution_count": 10,
   "metadata": {},
   "outputs": [],
   "source": [
    "#이중 폴더 내 이미지 꺼내기\n",
    "folder_path=glob.glob(data_path+\"BA*\")\n",
    "for in_path in folder_path:\n",
    "    tmp=os.listdir(in_path)\n",
    "    for i in tmp:\n",
    "        os.rename(in_path+\"/\"+i,data_path+str(int(i[0:3]))+i[3:])\n",
    "    \n",
    "    os.rmdir(in_path)"
   ]
  },
  {
   "cell_type": "code",
   "execution_count": 11,
   "metadata": {},
   "outputs": [],
   "source": [
    "#xlsx파일 읽어서 합치기\n",
    "df = pd.DataFrame()\n",
    "for xlsx in xls_path:\n",
    "    sub_df = pd.read_excel(xlsx)\n",
    "    \n",
    "    id = pd.DataFrame([int(re.findall(r'\\d+', str(x))[0]) for x in sub_df[\"No.\"]])\n",
    "    age = (sub_df[\"BA 1\"] + sub_df['BA 2']) / 2\n",
    "    gender = sub_df[\"성별\"]-1\n",
    "    \n",
    "    tmp = pd.concat([id, age, gender], axis=1, ignore_index=True)\n",
    "    df = pd.concat([df, tmp], axis=0, ignore_index=True)\n",
    "    \n",
    "df.columns=[\"ID\",\"Age\",\"Gender\"]"
   ]
  },
  {
   "cell_type": "code",
   "execution_count": 12,
   "metadata": {},
   "outputs": [],
   "source": [
    "#labeling 데이터 저장\n",
    "df.to_excel(data_path+\"clin_info.xlsx\")"
   ]
  },
  {
   "cell_type": "code",
   "execution_count": 13,
   "metadata": {},
   "outputs": [
    {
     "data": {
      "text/plain": [
       "(1572, 1184)"
      ]
     },
     "execution_count": 13,
     "metadata": {},
     "output_type": "execute_result"
    }
   ],
   "source": [
    "img_path = data_path + str(df.ID[0]) +'_F.jpg'\n",
    "img=cv2.imread(img_path,cv2.IMREAD_GRAYSCALE)\n",
    "img.shape #shape 확인"
   ]
  },
  {
   "cell_type": "code",
   "execution_count": null,
   "metadata": {},
   "outputs": [],
   "source": []
  }
 ],
 "metadata": {
  "kernelspec": {
   "display_name": "base",
   "language": "python",
   "name": "python3"
  },
  "language_info": {
   "codemirror_mode": {
    "name": "ipython",
    "version": 3
   },
   "file_extension": ".py",
   "mimetype": "text/x-python",
   "name": "python",
   "nbconvert_exporter": "python",
   "pygments_lexer": "ipython3",
   "version": "3.10.13"
  }
 },
 "nbformat": 4,
 "nbformat_minor": 2
}
