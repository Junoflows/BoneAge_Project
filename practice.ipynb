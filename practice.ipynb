{
 "cells": [
  {
   "cell_type": "code",
   "execution_count": null,
   "metadata": {},
   "outputs": [],
   "source": [
    "import pandas as pd\n",
    "import numpy as np\n",
    "import matplotlib.pyplot as plt\n",
    "from PIL import Image\n",
    "\n",
    "import re\n",
    "import os\n",
    "import shutil\n",
    "import glob\n",
    "import zipfile\n",
    "import cv2"
   ]
  },
  {
   "cell_type": "code",
   "execution_count": 2,
   "metadata": {},
   "outputs": [],
   "source": [
    "path= '골밀도 데이터/BoneAge/'\n",
    "data_path = '골밀도 데이터/image/'\n",
    "\n",
    "# xlsx파일과 zip파일 경로 추출\n",
    "xls_path=glob.glob(path+\"/*.xlsx\")\n",
    "zip_path=glob.glob(path+\"/*.zip\")"
   ]
  },
  {
   "cell_type": "code",
   "execution_count": 3,
   "metadata": {},
   "outputs": [],
   "source": [
    "#zip파일 압축 해제 후 위치 변경\n",
    "for zip in zip_path:\n",
    "    zipfile.ZipFile(zip).extractall(data_path)"
   ]
  },
  {
   "cell_type": "code",
   "execution_count": 4,
   "metadata": {},
   "outputs": [],
   "source": [
    "#이중 폴더 내 이미지 꺼내기\n",
    "folder_path=glob.glob(data_path+\"BA*\")\n",
    "for in_path in folder_path:\n",
    "    tmp=os.listdir(in_path)\n",
    "    for i in tmp:\n",
    "        os.rename(in_path+\"/\"+i,data_path+str(int(i[0:3]))+i[3:])\n",
    "    \n",
    "    os.rmdir(in_path)"
   ]
  },
  {
   "cell_type": "code",
   "execution_count": 5,
   "metadata": {},
   "outputs": [],
   "source": [
    "#xlsx파일 읽어서 합치기\n",
    "df = pd.DataFrame()\n",
    "for xlsx in xls_path:\n",
    "    sub_df = pd.read_excel(xlsx)\n",
    "    \n",
    "    id = pd.DataFrame([int(re.findall(r'\\d+', str(x))[0]) for x in sub_df[\"No.\"]])\n",
    "    age = (sub_df[\"BA 1\"] + sub_df['BA 2']) / 2\n",
    "    gender = sub_df[\"성별\"]-1\n",
    "    \n",
    "    tmp = pd.concat([id, age, gender], axis=1, ignore_index=True)\n",
    "    df = pd.concat([df, tmp], axis=0, ignore_index=True)\n",
    "    \n",
    "df.columns=[\"ID\",\"Age\",\"Gender\"]"
   ]
  },
  {
   "cell_type": "code",
   "execution_count": 7,
   "metadata": {},
   "outputs": [],
   "source": [
    "#labeling 데이터 저장\n",
    "df.to_excel(data_path+\"clin_info.xlsx\")"
   ]
  },
  {
   "cell_type": "code",
   "execution_count": 27,
   "metadata": {},
   "outputs": [
    {
     "data": {
      "text/plain": [
       "'골밀도 데이터/image/313_M.jpg'"
      ]
     },
     "execution_count": 27,
     "metadata": {},
     "output_type": "execute_result"
    }
   ],
   "source": [
    "data_path = '/Users/송준호/Desktop/BA project/'"
   ]
  },
  {
   "cell_type": "code",
   "execution_count": 28,
   "metadata": {},
   "outputs": [
    {
     "data": {
      "text/plain": [
       "'골밀도 데이터/image/310_F.jpg'"
      ]
     },
     "execution_count": 28,
     "metadata": {},
     "output_type": "execute_result"
    }
   ],
   "source": [
    "glob.glob(data_path + str(df.ID[0]) +'_F.jpg')[0]"
   ]
  },
  {
   "cell_type": "code",
   "execution_count": 30,
   "metadata": {},
   "outputs": [
    {
     "data": {
      "text/plain": [
       "'골밀도 데이터/image/310_F.jpg'"
      ]
     },
     "execution_count": 30,
     "metadata": {},
     "output_type": "execute_result"
    }
   ],
   "source": [
    "img_path = data_path + str(df.ID[0]) +'_F.jpg'\n",
    "img_path"
   ]
  },
  {
   "cell_type": "code",
   "execution_count": 29,
   "metadata": {},
   "outputs": [
    {
     "ename": "AttributeError",
     "evalue": "'NoneType' object has no attribute 'shape'",
     "output_type": "error",
     "traceback": [
      "\u001b[1;31m---------------------------------------------------------------------------\u001b[0m",
      "\u001b[1;31mAttributeError\u001b[0m                            Traceback (most recent call last)",
      "\u001b[1;32mc:\\Users\\송준호\\Desktop\\BA project\\practice.ipynb 셀 10\u001b[0m line \u001b[0;36m3\n\u001b[0;32m      <a href='vscode-notebook-cell:/c%3A/Users/%EC%86%A1%EC%A4%80%ED%98%B8/Desktop/BA%20project/practice.ipynb#X10sZmlsZQ%3D%3D?line=0'>1</a>\u001b[0m img_path \u001b[39m=\u001b[39m data_path \u001b[39m+\u001b[39m \u001b[39mstr\u001b[39m(df\u001b[39m.\u001b[39mID[\u001b[39m0\u001b[39m]) \u001b[39m+\u001b[39m\u001b[39m'\u001b[39m\u001b[39m_F.jpg\u001b[39m\u001b[39m'\u001b[39m\n\u001b[0;32m      <a href='vscode-notebook-cell:/c%3A/Users/%EC%86%A1%EC%A4%80%ED%98%B8/Desktop/BA%20project/practice.ipynb#X10sZmlsZQ%3D%3D?line=1'>2</a>\u001b[0m img\u001b[39m=\u001b[39mcv2\u001b[39m.\u001b[39mimread(img_path,cv2\u001b[39m.\u001b[39mIMREAD_GRAYSCALE)\n\u001b[1;32m----> <a href='vscode-notebook-cell:/c%3A/Users/%EC%86%A1%EC%A4%80%ED%98%B8/Desktop/BA%20project/practice.ipynb#X10sZmlsZQ%3D%3D?line=2'>3</a>\u001b[0m img\u001b[39m.\u001b[39;49mshape \u001b[39m#shape 확인\u001b[39;00m\n",
      "\u001b[1;31mAttributeError\u001b[0m: 'NoneType' object has no attribute 'shape'"
     ]
    }
   ],
   "source": [
    "img_path = data_path + str(df.ID[0]) +'_F.jpg'\n",
    "img=cv2.imread(img_path,cv2.IMREAD_GRAYSCALE)\n",
    "img.shape #shape 확인"
   ]
  },
  {
   "cell_type": "code",
   "execution_count": null,
   "metadata": {},
   "outputs": [],
   "source": []
  }
 ],
 "metadata": {
  "kernelspec": {
   "display_name": "base",
   "language": "python",
   "name": "python3"
  },
  "language_info": {
   "codemirror_mode": {
    "name": "ipython",
    "version": 3
   },
   "file_extension": ".py",
   "mimetype": "text/x-python",
   "name": "python",
   "nbconvert_exporter": "python",
   "pygments_lexer": "ipython3",
   "version": "3.10.9"
  }
 },
 "nbformat": 4,
 "nbformat_minor": 2
}
